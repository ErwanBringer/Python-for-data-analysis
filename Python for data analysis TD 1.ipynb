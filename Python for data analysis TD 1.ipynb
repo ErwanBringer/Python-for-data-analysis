{
 "cells": [
  {
   "cell_type": "markdown",
   "metadata": {},
   "source": [
    "# TD1"
   ]
  },
  {
   "cell_type": "code",
   "execution_count": 5,
   "metadata": {},
   "outputs": [
    {
     "data": {
      "application/javascript": [
       "IPython.notebook.set_autosave_interval(60000)"
      ]
     },
     "metadata": {},
     "output_type": "display_data"
    },
    {
     "name": "stdout",
     "output_type": "stream",
     "text": [
      "Autosaving every 60 seconds\n"
     ]
    }
   ],
   "source": [
    "%autosave 60"
   ]
  },
  {
   "cell_type": "code",
   "execution_count": 17,
   "metadata": {},
   "outputs": [],
   "source": [
    "%matplotlib inline\n",
    "import pandas as pd\n",
    "import numpy\n",
    "import matplotlib.pyplot as plt"
   ]
  },
  {
   "cell_type": "code",
   "execution_count": 14,
   "metadata": {},
   "outputs": [
    {
     "name": "stdout",
     "output_type": "stream",
     "text": [
      "hello word\n"
     ]
    }
   ],
   "source": [
    "print('hello word')"
   ]
  },
  {
   "cell_type": "code",
   "execution_count": 19,
   "metadata": {},
   "outputs": [
    {
     "data": {
      "text/html": [
       "<div>\n",
       "<style scoped>\n",
       "    .dataframe tbody tr th:only-of-type {\n",
       "        vertical-align: middle;\n",
       "    }\n",
       "\n",
       "    .dataframe tbody tr th {\n",
       "        vertical-align: top;\n",
       "    }\n",
       "\n",
       "    .dataframe thead th {\n",
       "        text-align: right;\n",
       "    }\n",
       "</style>\n",
       "<table border=\"1\" class=\"dataframe\">\n",
       "  <thead>\n",
       "    <tr style=\"text-align: right;\">\n",
       "      <th></th>\n",
       "      <th>sexe</th>\n",
       "      <th>preusuel</th>\n",
       "      <th>annais</th>\n",
       "      <th>dpt</th>\n",
       "      <th>nombre</th>\n",
       "    </tr>\n",
       "  </thead>\n",
       "  <tbody>\n",
       "    <tr>\n",
       "      <th>0</th>\n",
       "      <td>1</td>\n",
       "      <td>A</td>\n",
       "      <td>XXXX</td>\n",
       "      <td>XX</td>\n",
       "      <td>27</td>\n",
       "    </tr>\n",
       "    <tr>\n",
       "      <th>1</th>\n",
       "      <td>1</td>\n",
       "      <td>AADAM</td>\n",
       "      <td>XXXX</td>\n",
       "      <td>XX</td>\n",
       "      <td>27</td>\n",
       "    </tr>\n",
       "    <tr>\n",
       "      <th>2</th>\n",
       "      <td>1</td>\n",
       "      <td>AADEL</td>\n",
       "      <td>XXXX</td>\n",
       "      <td>XX</td>\n",
       "      <td>55</td>\n",
       "    </tr>\n",
       "    <tr>\n",
       "      <th>3</th>\n",
       "      <td>1</td>\n",
       "      <td>AADIL</td>\n",
       "      <td>1983</td>\n",
       "      <td>84</td>\n",
       "      <td>3</td>\n",
       "    </tr>\n",
       "    <tr>\n",
       "      <th>4</th>\n",
       "      <td>1</td>\n",
       "      <td>AADIL</td>\n",
       "      <td>1992</td>\n",
       "      <td>92</td>\n",
       "      <td>3</td>\n",
       "    </tr>\n",
       "  </tbody>\n",
       "</table>\n",
       "</div>"
      ],
      "text/plain": [
       "   sexe preusuel annais dpt  nombre\n",
       "0     1        A   XXXX  XX      27\n",
       "1     1    AADAM   XXXX  XX      27\n",
       "2     1    AADEL   XXXX  XX      55\n",
       "3     1    AADIL   1983  84       3\n",
       "4     1    AADIL   1992  92       3"
      ]
     },
     "execution_count": 19,
     "metadata": {},
     "output_type": "execute_result"
    }
   ],
   "source": [
    "Table_prenoms=pd.read_csv(\"C:/Users/erwan/Documents/Cours/dpt2018.csv\",delimiter=';',encoding='utf-8')\n",
    "\n",
    "Table_prenoms.head()"
   ]
  },
  {
   "cell_type": "code",
   "execution_count": 22,
   "metadata": {},
   "outputs": [
    {
     "data": {
      "text/plain": [
       "(3624994, 5)"
      ]
     },
     "execution_count": 22,
     "metadata": {},
     "output_type": "execute_result"
    }
   ],
   "source": [
    "Table_prenoms.shape"
   ]
  },
  {
   "cell_type": "code",
   "execution_count": 24,
   "metadata": {},
   "outputs": [
    {
     "data": {
      "text/html": [
       "<div>\n",
       "<style scoped>\n",
       "    .dataframe tbody tr th:only-of-type {\n",
       "        vertical-align: middle;\n",
       "    }\n",
       "\n",
       "    .dataframe tbody tr th {\n",
       "        vertical-align: top;\n",
       "    }\n",
       "\n",
       "    .dataframe thead th {\n",
       "        text-align: right;\n",
       "    }\n",
       "</style>\n",
       "<table border=\"1\" class=\"dataframe\">\n",
       "  <thead>\n",
       "    <tr style=\"text-align: right;\">\n",
       "      <th></th>\n",
       "      <th>sexe</th>\n",
       "      <th>nombre</th>\n",
       "    </tr>\n",
       "  </thead>\n",
       "  <tbody>\n",
       "    <tr>\n",
       "      <th>count</th>\n",
       "      <td>3.624994e+06</td>\n",
       "      <td>3.624994e+06</td>\n",
       "    </tr>\n",
       "    <tr>\n",
       "      <th>mean</th>\n",
       "      <td>1.536878e+00</td>\n",
       "      <td>2.348677e+01</td>\n",
       "    </tr>\n",
       "    <tr>\n",
       "      <th>std</th>\n",
       "      <td>4.986382e-01</td>\n",
       "      <td>8.047885e+01</td>\n",
       "    </tr>\n",
       "    <tr>\n",
       "      <th>min</th>\n",
       "      <td>1.000000e+00</td>\n",
       "      <td>3.000000e+00</td>\n",
       "    </tr>\n",
       "    <tr>\n",
       "      <th>25%</th>\n",
       "      <td>1.000000e+00</td>\n",
       "      <td>4.000000e+00</td>\n",
       "    </tr>\n",
       "    <tr>\n",
       "      <th>50%</th>\n",
       "      <td>2.000000e+00</td>\n",
       "      <td>7.000000e+00</td>\n",
       "    </tr>\n",
       "    <tr>\n",
       "      <th>75%</th>\n",
       "      <td>2.000000e+00</td>\n",
       "      <td>1.900000e+01</td>\n",
       "    </tr>\n",
       "    <tr>\n",
       "      <th>max</th>\n",
       "      <td>2.000000e+00</td>\n",
       "      <td>6.328000e+03</td>\n",
       "    </tr>\n",
       "  </tbody>\n",
       "</table>\n",
       "</div>"
      ],
      "text/plain": [
       "               sexe        nombre\n",
       "count  3.624994e+06  3.624994e+06\n",
       "mean   1.536878e+00  2.348677e+01\n",
       "std    4.986382e-01  8.047885e+01\n",
       "min    1.000000e+00  3.000000e+00\n",
       "25%    1.000000e+00  4.000000e+00\n",
       "50%    2.000000e+00  7.000000e+00\n",
       "75%    2.000000e+00  1.900000e+01\n",
       "max    2.000000e+00  6.328000e+03"
      ]
     },
     "execution_count": 24,
     "metadata": {},
     "output_type": "execute_result"
    }
   ],
   "source": [
    "Table_prenoms.describe()"
   ]
  },
  {
   "cell_type": "code",
   "execution_count": 25,
   "metadata": {},
   "outputs": [
    {
     "data": {
      "text/plain": [
       "sexe         int64\n",
       "preusuel    object\n",
       "annais      object\n",
       "dpt         object\n",
       "nombre       int64\n",
       "dtype: object"
      ]
     },
     "execution_count": 25,
     "metadata": {},
     "output_type": "execute_result"
    }
   ],
   "source": [
    "Table_prenoms.dtypes"
   ]
  },
  {
   "cell_type": "code",
   "execution_count": 28,
   "metadata": {},
   "outputs": [
    {
     "data": {
      "text/plain": [
       "Index(['sexe', 'preusuel', 'annais', 'dpt', 'nombre'], dtype='object')"
      ]
     },
     "execution_count": 28,
     "metadata": {},
     "output_type": "execute_result"
    }
   ],
   "source": [
    "Table_prenoms.columns"
   ]
  },
  {
   "cell_type": "code",
   "execution_count": 34,
   "metadata": {},
   "outputs": [
    {
     "name": "stdout",
     "output_type": "stream",
     "text": [
      "        sexe preusuel annais dpt  nombre\n",
      "742508     1     JEAN   1946  75    6328\n"
     ]
    }
   ],
   "source": [
    "print(Table_prenoms[Table_prenoms.nombre==max(Table_prenoms.nombre)])"
   ]
  },
  {
   "cell_type": "markdown",
   "metadata": {},
   "source": [
    "top 10 prenoms masculins dans le 75 en 1974\n",
    "<br>\n",
    "top 5 prenoms féminins en france 1960\n",
    "<br>\n",
    "graphique sur l'évolution du prenom jean en france par année\n",
    "<br>\n",
    "Prenom le plus donné en une année dans un département"
   ]
  },
  {
   "cell_type": "code",
   "execution_count": null,
   "metadata": {},
   "outputs": [],
   "source": []
  },
  {
   "cell_type": "code",
   "execution_count": 40,
   "metadata": {},
   "outputs": [
    {
     "data": {
      "text/html": [
       "<div>\n",
       "<style scoped>\n",
       "    .dataframe tbody tr th:only-of-type {\n",
       "        vertical-align: middle;\n",
       "    }\n",
       "\n",
       "    .dataframe tbody tr th {\n",
       "        vertical-align: top;\n",
       "    }\n",
       "\n",
       "    .dataframe thead th {\n",
       "        text-align: right;\n",
       "    }\n",
       "</style>\n",
       "<table border=\"1\" class=\"dataframe\">\n",
       "  <thead>\n",
       "    <tr style=\"text-align: right;\">\n",
       "      <th></th>\n",
       "      <th>sexe</th>\n",
       "      <th>preusuel</th>\n",
       "      <th>annais</th>\n",
       "      <th>dpt</th>\n",
       "      <th>nombre</th>\n",
       "    </tr>\n",
       "  </thead>\n",
       "  <tbody>\n",
       "    <tr>\n",
       "      <th>593637</th>\n",
       "      <td>1</td>\n",
       "      <td>GERMAIN</td>\n",
       "      <td>1900</td>\n",
       "      <td>02</td>\n",
       "      <td>8</td>\n",
       "    </tr>\n",
       "    <tr>\n",
       "      <th>593638</th>\n",
       "      <td>1</td>\n",
       "      <td>GERMAIN</td>\n",
       "      <td>1900</td>\n",
       "      <td>04</td>\n",
       "      <td>3</td>\n",
       "    </tr>\n",
       "    <tr>\n",
       "      <th>593639</th>\n",
       "      <td>1</td>\n",
       "      <td>GERMAIN</td>\n",
       "      <td>1900</td>\n",
       "      <td>06</td>\n",
       "      <td>4</td>\n",
       "    </tr>\n",
       "    <tr>\n",
       "      <th>593640</th>\n",
       "      <td>1</td>\n",
       "      <td>GERMAIN</td>\n",
       "      <td>1900</td>\n",
       "      <td>07</td>\n",
       "      <td>11</td>\n",
       "    </tr>\n",
       "    <tr>\n",
       "      <th>593641</th>\n",
       "      <td>1</td>\n",
       "      <td>GERMAIN</td>\n",
       "      <td>1900</td>\n",
       "      <td>09</td>\n",
       "      <td>6</td>\n",
       "    </tr>\n",
       "    <tr>\n",
       "      <th>...</th>\n",
       "      <td>...</td>\n",
       "      <td>...</td>\n",
       "      <td>...</td>\n",
       "      <td>...</td>\n",
       "      <td>...</td>\n",
       "    </tr>\n",
       "    <tr>\n",
       "      <th>597525</th>\n",
       "      <td>1</td>\n",
       "      <td>GERMAIN</td>\n",
       "      <td>2018</td>\n",
       "      <td>75</td>\n",
       "      <td>3</td>\n",
       "    </tr>\n",
       "    <tr>\n",
       "      <th>597526</th>\n",
       "      <td>1</td>\n",
       "      <td>GERMAIN</td>\n",
       "      <td>XXXX</td>\n",
       "      <td>XX</td>\n",
       "      <td>4791</td>\n",
       "    </tr>\n",
       "    <tr>\n",
       "      <th>2432014</th>\n",
       "      <td>2</td>\n",
       "      <td>GERMAIN</td>\n",
       "      <td>1953</td>\n",
       "      <td>972</td>\n",
       "      <td>3</td>\n",
       "    </tr>\n",
       "    <tr>\n",
       "      <th>2432015</th>\n",
       "      <td>2</td>\n",
       "      <td>GERMAIN</td>\n",
       "      <td>1954</td>\n",
       "      <td>972</td>\n",
       "      <td>3</td>\n",
       "    </tr>\n",
       "    <tr>\n",
       "      <th>2432016</th>\n",
       "      <td>2</td>\n",
       "      <td>GERMAIN</td>\n",
       "      <td>XXXX</td>\n",
       "      <td>XX</td>\n",
       "      <td>120</td>\n",
       "    </tr>\n",
       "  </tbody>\n",
       "</table>\n",
       "<p>3893 rows × 5 columns</p>\n",
       "</div>"
      ],
      "text/plain": [
       "         sexe preusuel annais  dpt  nombre\n",
       "593637      1  GERMAIN   1900   02       8\n",
       "593638      1  GERMAIN   1900   04       3\n",
       "593639      1  GERMAIN   1900   06       4\n",
       "593640      1  GERMAIN   1900   07      11\n",
       "593641      1  GERMAIN   1900   09       6\n",
       "...       ...      ...    ...  ...     ...\n",
       "597525      1  GERMAIN   2018   75       3\n",
       "597526      1  GERMAIN   XXXX   XX    4791\n",
       "2432014     2  GERMAIN   1953  972       3\n",
       "2432015     2  GERMAIN   1954  972       3\n",
       "2432016     2  GERMAIN   XXXX   XX     120\n",
       "\n",
       "[3893 rows x 5 columns]"
      ]
     },
     "execution_count": 40,
     "metadata": {},
     "output_type": "execute_result"
    }
   ],
   "source": [
    "Table_prenoms[Table_prenoms.preusuel=='GERMAIN']"
   ]
  },
  {
   "cell_type": "code",
   "execution_count": 43,
   "metadata": {},
   "outputs": [
    {
     "data": {
      "text/html": [
       "<div>\n",
       "<style scoped>\n",
       "    .dataframe tbody tr th:only-of-type {\n",
       "        vertical-align: middle;\n",
       "    }\n",
       "\n",
       "    .dataframe tbody tr th {\n",
       "        vertical-align: top;\n",
       "    }\n",
       "\n",
       "    .dataframe thead th {\n",
       "        text-align: right;\n",
       "    }\n",
       "</style>\n",
       "<table border=\"1\" class=\"dataframe\">\n",
       "  <thead>\n",
       "    <tr style=\"text-align: right;\">\n",
       "      <th></th>\n",
       "      <th>sexe</th>\n",
       "      <th>preusuel</th>\n",
       "      <th>annais</th>\n",
       "      <th>dpt</th>\n",
       "      <th>nombre</th>\n",
       "    </tr>\n",
       "  </thead>\n",
       "  <tbody>\n",
       "    <tr>\n",
       "      <th>2103885</th>\n",
       "      <td>2</td>\n",
       "      <td>CLOTHILDE</td>\n",
       "      <td>XXXX</td>\n",
       "      <td>XX</td>\n",
       "      <td>3004</td>\n",
       "    </tr>\n",
       "    <tr>\n",
       "      <th>3503564</th>\n",
       "      <td>2</td>\n",
       "      <td>SYLVIE</td>\n",
       "      <td>1964</td>\n",
       "      <td>75</td>\n",
       "      <td>3011</td>\n",
       "    </tr>\n",
       "    <tr>\n",
       "      <th>2009466</th>\n",
       "      <td>2</td>\n",
       "      <td>CATHERINE</td>\n",
       "      <td>1960</td>\n",
       "      <td>75</td>\n",
       "      <td>3012</td>\n",
       "    </tr>\n",
       "    <tr>\n",
       "      <th>3410953</th>\n",
       "      <td>2</td>\n",
       "      <td>SARA</td>\n",
       "      <td>XXXX</td>\n",
       "      <td>XX</td>\n",
       "      <td>3012</td>\n",
       "    </tr>\n",
       "    <tr>\n",
       "      <th>1010328</th>\n",
       "      <td>1</td>\n",
       "      <td>LUIS</td>\n",
       "      <td>XXXX</td>\n",
       "      <td>XX</td>\n",
       "      <td>3014</td>\n",
       "    </tr>\n",
       "    <tr>\n",
       "      <th>...</th>\n",
       "      <td>...</td>\n",
       "      <td>...</td>\n",
       "      <td>...</td>\n",
       "      <td>...</td>\n",
       "      <td>...</td>\n",
       "    </tr>\n",
       "    <tr>\n",
       "      <th>1123654</th>\n",
       "      <td>1</td>\n",
       "      <td>MAX</td>\n",
       "      <td>XXXX</td>\n",
       "      <td>XX</td>\n",
       "      <td>5558</td>\n",
       "    </tr>\n",
       "    <tr>\n",
       "      <th>1808440</th>\n",
       "      <td>2</td>\n",
       "      <td>ANGELINE</td>\n",
       "      <td>XXXX</td>\n",
       "      <td>XX</td>\n",
       "      <td>5591</td>\n",
       "    </tr>\n",
       "    <tr>\n",
       "      <th>742602</th>\n",
       "      <td>1</td>\n",
       "      <td>JEAN</td>\n",
       "      <td>1947</td>\n",
       "      <td>75</td>\n",
       "      <td>5802</td>\n",
       "    </tr>\n",
       "    <tr>\n",
       "      <th>2107312</th>\n",
       "      <td>2</td>\n",
       "      <td>CLOTILDE</td>\n",
       "      <td>XXXX</td>\n",
       "      <td>XX</td>\n",
       "      <td>5831</td>\n",
       "    </tr>\n",
       "    <tr>\n",
       "      <th>742508</th>\n",
       "      <td>1</td>\n",
       "      <td>JEAN</td>\n",
       "      <td>1946</td>\n",
       "      <td>75</td>\n",
       "      <td>6328</td>\n",
       "    </tr>\n",
       "  </tbody>\n",
       "</table>\n",
       "<p>384 rows × 5 columns</p>\n",
       "</div>"
      ],
      "text/plain": [
       "         sexe   preusuel annais dpt  nombre\n",
       "2103885     2  CLOTHILDE   XXXX  XX    3004\n",
       "3503564     2     SYLVIE   1964  75    3011\n",
       "2009466     2  CATHERINE   1960  75    3012\n",
       "3410953     2       SARA   XXXX  XX    3012\n",
       "1010328     1       LUIS   XXXX  XX    3014\n",
       "...       ...        ...    ...  ..     ...\n",
       "1123654     1        MAX   XXXX  XX    5558\n",
       "1808440     2   ANGELINE   XXXX  XX    5591\n",
       "742602      1       JEAN   1947  75    5802\n",
       "2107312     2   CLOTILDE   XXXX  XX    5831\n",
       "742508      1       JEAN   1946  75    6328\n",
       "\n",
       "[384 rows x 5 columns]"
      ]
     },
     "execution_count": 43,
     "metadata": {},
     "output_type": "execute_result"
    }
   ],
   "source": [
    "Table_prenoms[Table_prenoms['nombre'] > 3000].sort_values(by=\"nombre\")"
   ]
  },
  {
   "cell_type": "code",
   "execution_count": 45,
   "metadata": {},
   "outputs": [
    {
     "data": {
      "text/html": [
       "<div>\n",
       "<style scoped>\n",
       "    .dataframe tbody tr th:only-of-type {\n",
       "        vertical-align: middle;\n",
       "    }\n",
       "\n",
       "    .dataframe tbody tr th {\n",
       "        vertical-align: top;\n",
       "    }\n",
       "\n",
       "    .dataframe thead th {\n",
       "        text-align: right;\n",
       "    }\n",
       "</style>\n",
       "<table border=\"1\" class=\"dataframe\">\n",
       "  <thead>\n",
       "    <tr style=\"text-align: right;\">\n",
       "      <th></th>\n",
       "      <th>sexe</th>\n",
       "      <th>preusuel</th>\n",
       "      <th>annais</th>\n",
       "      <th>dpt</th>\n",
       "      <th>nombre</th>\n",
       "    </tr>\n",
       "  </thead>\n",
       "  <tbody>\n",
       "    <tr>\n",
       "      <th>597526</th>\n",
       "      <td>1</td>\n",
       "      <td>GERMAIN</td>\n",
       "      <td>XXXX</td>\n",
       "      <td>XX</td>\n",
       "      <td>4791</td>\n",
       "    </tr>\n",
       "    <tr>\n",
       "      <th>2838272</th>\n",
       "      <td>2</td>\n",
       "      <td>LYDIE</td>\n",
       "      <td>XXXX</td>\n",
       "      <td>XX</td>\n",
       "      <td>4870</td>\n",
       "    </tr>\n",
       "    <tr>\n",
       "      <th>691808</th>\n",
       "      <td>1</td>\n",
       "      <td>HUGUES</td>\n",
       "      <td>XXXX</td>\n",
       "      <td>XX</td>\n",
       "      <td>4878</td>\n",
       "    </tr>\n",
       "    <tr>\n",
       "      <th>2384919</th>\n",
       "      <td>2</td>\n",
       "      <td>FRANCE</td>\n",
       "      <td>XXXX</td>\n",
       "      <td>XX</td>\n",
       "      <td>4916</td>\n",
       "    </tr>\n",
       "    <tr>\n",
       "      <th>3316430</th>\n",
       "      <td>2</td>\n",
       "      <td>RACHEL</td>\n",
       "      <td>XXXX</td>\n",
       "      <td>XX</td>\n",
       "      <td>5040</td>\n",
       "    </tr>\n",
       "    <tr>\n",
       "      <th>552097</th>\n",
       "      <td>1</td>\n",
       "      <td>FÉLIX</td>\n",
       "      <td>XXXX</td>\n",
       "      <td>XX</td>\n",
       "      <td>5080</td>\n",
       "    </tr>\n",
       "    <tr>\n",
       "      <th>669783</th>\n",
       "      <td>1</td>\n",
       "      <td>HENRY</td>\n",
       "      <td>XXXX</td>\n",
       "      <td>XX</td>\n",
       "      <td>5096</td>\n",
       "    </tr>\n",
       "    <tr>\n",
       "      <th>1076909</th>\n",
       "      <td>1</td>\n",
       "      <td>MARTIAL</td>\n",
       "      <td>XXXX</td>\n",
       "      <td>XX</td>\n",
       "      <td>5131</td>\n",
       "    </tr>\n",
       "    <tr>\n",
       "      <th>2820207</th>\n",
       "      <td>2</td>\n",
       "      <td>LUCILE</td>\n",
       "      <td>XXXX</td>\n",
       "      <td>XX</td>\n",
       "      <td>5145</td>\n",
       "    </tr>\n",
       "    <tr>\n",
       "      <th>9823</th>\n",
       "      <td>1</td>\n",
       "      <td>ABEL</td>\n",
       "      <td>XXXX</td>\n",
       "      <td>XX</td>\n",
       "      <td>5157</td>\n",
       "    </tr>\n",
       "    <tr>\n",
       "      <th>2317688</th>\n",
       "      <td>2</td>\n",
       "      <td>ESTHER</td>\n",
       "      <td>XXXX</td>\n",
       "      <td>XX</td>\n",
       "      <td>5174</td>\n",
       "    </tr>\n",
       "    <tr>\n",
       "      <th>1651824</th>\n",
       "      <td>1</td>\n",
       "      <td>YVAN</td>\n",
       "      <td>XXXX</td>\n",
       "      <td>XX</td>\n",
       "      <td>5238</td>\n",
       "    </tr>\n",
       "    <tr>\n",
       "      <th>1991491</th>\n",
       "      <td>2</td>\n",
       "      <td>CARMEN</td>\n",
       "      <td>XXXX</td>\n",
       "      <td>XX</td>\n",
       "      <td>5330</td>\n",
       "    </tr>\n",
       "    <tr>\n",
       "      <th>407132</th>\n",
       "      <td>1</td>\n",
       "      <td>ELIE</td>\n",
       "      <td>XXXX</td>\n",
       "      <td>XX</td>\n",
       "      <td>5337</td>\n",
       "    </tr>\n",
       "    <tr>\n",
       "      <th>3560253</th>\n",
       "      <td>2</td>\n",
       "      <td>VIOLETTE</td>\n",
       "      <td>XXXX</td>\n",
       "      <td>XX</td>\n",
       "      <td>5508</td>\n",
       "    </tr>\n",
       "    <tr>\n",
       "      <th>1123654</th>\n",
       "      <td>1</td>\n",
       "      <td>MAX</td>\n",
       "      <td>XXXX</td>\n",
       "      <td>XX</td>\n",
       "      <td>5558</td>\n",
       "    </tr>\n",
       "    <tr>\n",
       "      <th>1808440</th>\n",
       "      <td>2</td>\n",
       "      <td>ANGELINE</td>\n",
       "      <td>XXXX</td>\n",
       "      <td>XX</td>\n",
       "      <td>5591</td>\n",
       "    </tr>\n",
       "    <tr>\n",
       "      <th>742602</th>\n",
       "      <td>1</td>\n",
       "      <td>JEAN</td>\n",
       "      <td>1947</td>\n",
       "      <td>75</td>\n",
       "      <td>5802</td>\n",
       "    </tr>\n",
       "    <tr>\n",
       "      <th>2107312</th>\n",
       "      <td>2</td>\n",
       "      <td>CLOTILDE</td>\n",
       "      <td>XXXX</td>\n",
       "      <td>XX</td>\n",
       "      <td>5831</td>\n",
       "    </tr>\n",
       "    <tr>\n",
       "      <th>742508</th>\n",
       "      <td>1</td>\n",
       "      <td>JEAN</td>\n",
       "      <td>1946</td>\n",
       "      <td>75</td>\n",
       "      <td>6328</td>\n",
       "    </tr>\n",
       "  </tbody>\n",
       "</table>\n",
       "</div>"
      ],
      "text/plain": [
       "         sexe  preusuel annais dpt  nombre\n",
       "597526      1   GERMAIN   XXXX  XX    4791\n",
       "2838272     2     LYDIE   XXXX  XX    4870\n",
       "691808      1    HUGUES   XXXX  XX    4878\n",
       "2384919     2    FRANCE   XXXX  XX    4916\n",
       "3316430     2    RACHEL   XXXX  XX    5040\n",
       "552097      1     FÉLIX   XXXX  XX    5080\n",
       "669783      1     HENRY   XXXX  XX    5096\n",
       "1076909     1   MARTIAL   XXXX  XX    5131\n",
       "2820207     2    LUCILE   XXXX  XX    5145\n",
       "9823        1      ABEL   XXXX  XX    5157\n",
       "2317688     2    ESTHER   XXXX  XX    5174\n",
       "1651824     1      YVAN   XXXX  XX    5238\n",
       "1991491     2    CARMEN   XXXX  XX    5330\n",
       "407132      1      ELIE   XXXX  XX    5337\n",
       "3560253     2  VIOLETTE   XXXX  XX    5508\n",
       "1123654     1       MAX   XXXX  XX    5558\n",
       "1808440     2  ANGELINE   XXXX  XX    5591\n",
       "742602      1      JEAN   1947  75    5802\n",
       "2107312     2  CLOTILDE   XXXX  XX    5831\n",
       "742508      1      JEAN   1946  75    6328"
      ]
     },
     "execution_count": 45,
     "metadata": {},
     "output_type": "execute_result"
    }
   ],
   "source": [
    "Table_prenoms.sort_values(by='nombre')[-20:]"
   ]
  },
  {
   "cell_type": "code",
   "execution_count": 47,
   "metadata": {},
   "outputs": [
    {
     "data": {
      "text/html": [
       "<div>\n",
       "<style scoped>\n",
       "    .dataframe tbody tr th:only-of-type {\n",
       "        vertical-align: middle;\n",
       "    }\n",
       "\n",
       "    .dataframe tbody tr th {\n",
       "        vertical-align: top;\n",
       "    }\n",
       "\n",
       "    .dataframe thead th {\n",
       "        text-align: right;\n",
       "    }\n",
       "</style>\n",
       "<table border=\"1\" class=\"dataframe\">\n",
       "  <thead>\n",
       "    <tr style=\"text-align: right;\">\n",
       "      <th></th>\n",
       "      <th>sexe</th>\n",
       "      <th>preusuel</th>\n",
       "      <th>annais</th>\n",
       "      <th>dpt</th>\n",
       "      <th>nombre</th>\n",
       "    </tr>\n",
       "  </thead>\n",
       "  <tbody>\n",
       "    <tr>\n",
       "      <th>594601</th>\n",
       "      <td>1</td>\n",
       "      <td>GERMAIN</td>\n",
       "      <td>1912</td>\n",
       "      <td>75</td>\n",
       "      <td>35</td>\n",
       "    </tr>\n",
       "    <tr>\n",
       "      <th>595629</th>\n",
       "      <td>1</td>\n",
       "      <td>GERMAIN</td>\n",
       "      <td>1927</td>\n",
       "      <td>59</td>\n",
       "      <td>36</td>\n",
       "    </tr>\n",
       "    <tr>\n",
       "      <th>594154</th>\n",
       "      <td>1</td>\n",
       "      <td>GERMAIN</td>\n",
       "      <td>1907</td>\n",
       "      <td>12</td>\n",
       "      <td>37</td>\n",
       "    </tr>\n",
       "    <tr>\n",
       "      <th>594392</th>\n",
       "      <td>1</td>\n",
       "      <td>GERMAIN</td>\n",
       "      <td>1910</td>\n",
       "      <td>19</td>\n",
       "      <td>38</td>\n",
       "    </tr>\n",
       "    <tr>\n",
       "      <th>593963</th>\n",
       "      <td>1</td>\n",
       "      <td>GERMAIN</td>\n",
       "      <td>1904</td>\n",
       "      <td>59</td>\n",
       "      <td>42</td>\n",
       "    </tr>\n",
       "    <tr>\n",
       "      <th>595095</th>\n",
       "      <td>1</td>\n",
       "      <td>GERMAIN</td>\n",
       "      <td>1920</td>\n",
       "      <td>59</td>\n",
       "      <td>43</td>\n",
       "    </tr>\n",
       "    <tr>\n",
       "      <th>595551</th>\n",
       "      <td>1</td>\n",
       "      <td>GERMAIN</td>\n",
       "      <td>1926</td>\n",
       "      <td>59</td>\n",
       "      <td>43</td>\n",
       "    </tr>\n",
       "    <tr>\n",
       "      <th>595318</th>\n",
       "      <td>1</td>\n",
       "      <td>GERMAIN</td>\n",
       "      <td>1923</td>\n",
       "      <td>59</td>\n",
       "      <td>45</td>\n",
       "    </tr>\n",
       "    <tr>\n",
       "      <th>2432016</th>\n",
       "      <td>2</td>\n",
       "      <td>GERMAIN</td>\n",
       "      <td>XXXX</td>\n",
       "      <td>XX</td>\n",
       "      <td>120</td>\n",
       "    </tr>\n",
       "    <tr>\n",
       "      <th>597526</th>\n",
       "      <td>1</td>\n",
       "      <td>GERMAIN</td>\n",
       "      <td>XXXX</td>\n",
       "      <td>XX</td>\n",
       "      <td>4791</td>\n",
       "    </tr>\n",
       "  </tbody>\n",
       "</table>\n",
       "</div>"
      ],
      "text/plain": [
       "         sexe preusuel annais dpt  nombre\n",
       "594601      1  GERMAIN   1912  75      35\n",
       "595629      1  GERMAIN   1927  59      36\n",
       "594154      1  GERMAIN   1907  12      37\n",
       "594392      1  GERMAIN   1910  19      38\n",
       "593963      1  GERMAIN   1904  59      42\n",
       "595095      1  GERMAIN   1920  59      43\n",
       "595551      1  GERMAIN   1926  59      43\n",
       "595318      1  GERMAIN   1923  59      45\n",
       "2432016     2  GERMAIN   XXXX  XX     120\n",
       "597526      1  GERMAIN   XXXX  XX    4791"
      ]
     },
     "execution_count": 47,
     "metadata": {},
     "output_type": "execute_result"
    }
   ],
   "source": [
    "# FILTER , SORT , SLICE\n",
    "Table_prenoms[Table_prenoms.preusuel==\"GERMAIN\"].sort_values(by='nombre')[-10:]"
   ]
  },
  {
   "cell_type": "code",
   "execution_count": 49,
   "metadata": {},
   "outputs": [
    {
     "data": {
      "text/plain": [
       "sexe\n",
       "1    42888936\n",
       "2    42250453\n",
       "Name: nombre, dtype: int64"
      ]
     },
     "execution_count": 49,
     "metadata": {},
     "output_type": "execute_result"
    }
   ],
   "source": [
    "# GROUP BY\n",
    "Table_prenoms.groupby(\"sexe\").nombre.sum()"
   ]
  },
  {
   "cell_type": "code",
   "execution_count": 50,
   "metadata": {},
   "outputs": [
    {
     "data": {
      "text/plain": [
       "dpt\n",
       "48      104399\n",
       "04      105739\n",
       "05      126071\n",
       "09      156535\n",
       "973     169185\n",
       "        ...   \n",
       "69     2073802\n",
       "62     2350845\n",
       "59     4175920\n",
       "75     6160048\n",
       "XX     8261688\n",
       "Name: nombre, Length: 100, dtype: int64"
      ]
     },
     "execution_count": 50,
     "metadata": {},
     "output_type": "execute_result"
    }
   ],
   "source": [
    "# Top des départements avec le plus et le moins de naissances\n",
    "Table_prenoms.groupby(\"dpt\").nombre.sum().sort_values()"
   ]
  },
  {
   "cell_type": "code",
   "execution_count": 52,
   "metadata": {},
   "outputs": [
    {
     "data": {
      "text/plain": [
       "preusuel\n",
       "DOMINIQUE          409919\n",
       "PAUL               416412\n",
       "ROBERT             419297\n",
       "ROGER              423873\n",
       "DANIEL             435021\n",
       "MARCEL             467850\n",
       "CLAUDE             468445\n",
       "BERNARD            469399\n",
       "JACQUES            482812\n",
       "ALAIN              506899\n",
       "RENÉ               516739\n",
       "LOUIS              517774\n",
       "PHILIPPE           538661\n",
       "JEANNE             556074\n",
       "ANDRÉ              712568\n",
       "MICHEL             820459\n",
       "PIERRE             891894\n",
       "_PRENOMS_RARES    1575032\n",
       "JEAN              1917129\n",
       "MARIE             2260236\n",
       "Name: nombre, dtype: int64"
      ]
     },
     "execution_count": 52,
     "metadata": {},
     "output_type": "execute_result"
    }
   ],
   "source": [
    "# All time - All departements top 20\n",
    "Table_prenoms.groupby(\"preusuel\").nombre.sum().sort_values()[-20:]"
   ]
  },
  {
   "cell_type": "code",
   "execution_count": 55,
   "metadata": {},
   "outputs": [
    {
     "data": {
      "text/plain": [
       "preusuel\n",
       "SCHÉRAZADE     20\n",
       "SHYM           20\n",
       "SHYMA          20\n",
       "GIANMARCO      20\n",
       "MPALY          20\n",
       "BETHEL         20\n",
       "ROMILDE        20\n",
       "GIBRYL         20\n",
       "LIRA           20\n",
       "IMRANA         20\n",
       "LIOVA          20\n",
       "SHYNNA         20\n",
       "MARC-ALBERT    20\n",
       "NOLWAN         20\n",
       "ALIHA          20\n",
       "ALIFA          20\n",
       "LIOBA          20\n",
       "GILAINE        20\n",
       "KACIA          20\n",
       "MARC'ANTO      20\n",
       "Name: nombre, dtype: int64"
      ]
     },
     "execution_count": 55,
     "metadata": {},
     "output_type": "execute_result"
    }
   ],
   "source": [
    "# All time - All departements 20 prénoms les moins donnés (*)\n",
    "Table_prenoms.groupby(Table_prenoms.preusuel).nombre.sum().sort_values()[:20]"
   ]
  },
  {
   "cell_type": "code",
   "execution_count": 56,
   "metadata": {},
   "outputs": [
    {
     "data": {
      "text/plain": [
       "sexe        3589386\n",
       "preusuel    3589386\n",
       "annais      3589386\n",
       "dpt         3589386\n",
       "nombre      3589386\n",
       "dtype: int64"
      ]
     },
     "execution_count": 56,
     "metadata": {},
     "output_type": "execute_result"
    }
   ],
   "source": [
    "Table_prenoms=Table_prenoms[(Table_prenoms.dpt != \"XX\")]\n",
    "Table_prenoms.count()"
   ]
  },
  {
   "cell_type": "code",
   "execution_count": 58,
   "metadata": {},
   "outputs": [
    {
     "data": {
      "text/plain": [
       "preusuel\n",
       "LOUISE             3765\n",
       "ADAM               3885\n",
       "JADE               3977\n",
       "LUCAS              3978\n",
       "EMMA               4367\n",
       "LOUIS              4411\n",
       "LÉO                4444\n",
       "RAPHAËL            4589\n",
       "GABRIEL            5418\n",
       "_PRENOMS_RARES    53978\n",
       "Name: nombre, dtype: int64"
      ]
     },
     "execution_count": 58,
     "metadata": {},
     "output_type": "execute_result"
    }
   ],
   "source": [
    "Table_prenoms[(Table_prenoms.annais==\"2018\")].groupby(Table_prenoms.preusuel).nombre.sum().sort_values()[-10:]"
   ]
  },
  {
   "cell_type": "code",
   "execution_count": 60,
   "metadata": {},
   "outputs": [
    {
     "data": {
      "text/plain": [
       "<matplotlib.axes._subplots.AxesSubplot at 0x272001e9370>"
      ]
     },
     "execution_count": 60,
     "metadata": {},
     "output_type": "execute_result"
    },
    {
     "data": {
      "image/png": "[encoded data removed]",
      "text/plain": [
       "<Figure size 432x288 with 1 Axes>"
      ]
     },
     "metadata": {
      "needs_background": "light"
     },
     "output_type": "display_data"
    }
   ],
   "source": [
    "Table_prenoms[(Table_prenoms.preusuel==\"PAUL\")].groupby(\"annais\").nombre.sum().plot()"
   ]
  },
  {
   "cell_type": "code",
   "execution_count": 63,
   "metadata": {},
   "outputs": [
    {
     "data": {
      "text/plain": [
       "<matplotlib.axes._subplots.AxesSubplot at 0x27202706c70>"
      ]
     },
     "execution_count": 63,
     "metadata": {},
     "output_type": "execute_result"
    },
    {
     "data": {
      "image/png": "[encoded data removed]",
      "text/plain": [
       "<Figure size 432x288 with 1 Axes>"
      ]
     },
     "metadata": {
      "needs_background": "light"
     },
     "output_type": "display_data"
    }
   ],
   "source": [
    "Table_prenoms[(Table_prenoms.preusuel==\"MARIE\")].groupby(\"annais\").nombre.sum().plot()\n",
    "Table_prenoms[(Table_prenoms.preusuel==\"KEVIN\")].groupby(\"annais\").nombre.sum().plot()"
   ]
  },
  {
   "cell_type": "code",
   "execution_count": 66,
   "metadata": {},
   "outputs": [
    {
     "data": {
      "text/html": [
       "<div>\n",
       "<style scoped>\n",
       "    .dataframe tbody tr th:only-of-type {\n",
       "        vertical-align: middle;\n",
       "    }\n",
       "\n",
       "    .dataframe tbody tr th {\n",
       "        vertical-align: top;\n",
       "    }\n",
       "\n",
       "    .dataframe thead th {\n",
       "        text-align: right;\n",
       "    }\n",
       "</style>\n",
       "<table border=\"1\" class=\"dataframe\">\n",
       "  <thead>\n",
       "    <tr style=\"text-align: right;\">\n",
       "      <th>sexe</th>\n",
       "      <th>1</th>\n",
       "      <th>2</th>\n",
       "    </tr>\n",
       "    <tr>\n",
       "      <th>annais</th>\n",
       "      <th></th>\n",
       "      <th></th>\n",
       "    </tr>\n",
       "  </thead>\n",
       "  <tbody>\n",
       "    <tr>\n",
       "      <th>2014</th>\n",
       "      <td>326851</td>\n",
       "      <td>293727</td>\n",
       "    </tr>\n",
       "    <tr>\n",
       "      <th>2015</th>\n",
       "      <td>317615</td>\n",
       "      <td>284612</td>\n",
       "    </tr>\n",
       "    <tr>\n",
       "      <th>2016</th>\n",
       "      <td>309316</td>\n",
       "      <td>277646</td>\n",
       "    </tr>\n",
       "    <tr>\n",
       "      <th>2017</th>\n",
       "      <td>301974</td>\n",
       "      <td>271703</td>\n",
       "    </tr>\n",
       "    <tr>\n",
       "      <th>2018</th>\n",
       "      <td>297526</td>\n",
       "      <td>266733</td>\n",
       "    </tr>\n",
       "  </tbody>\n",
       "</table>\n",
       "</div>"
      ],
      "text/plain": [
       "sexe         1       2\n",
       "annais                \n",
       "2014    326851  293727\n",
       "2015    317615  284612\n",
       "2016    309316  277646\n",
       "2017    301974  271703\n",
       "2018    297526  266733"
      ]
     },
     "execution_count": 66,
     "metadata": {},
     "output_type": "execute_result"
    }
   ],
   "source": [
    "\n",
    "total_naissances=Table_prenoms.pivot_table('nombre',index='annais',columns='sexe',aggfunc=sum)\n",
    "total_naissances.tail()\n"
   ]
  },
  {
   "cell_type": "code",
   "execution_count": 67,
   "metadata": {},
   "outputs": [
    {
     "data": {
      "text/plain": [
       "<matplotlib.axes._subplots.AxesSubplot at 0x2720275e670>"
      ]
     },
     "execution_count": 67,
     "metadata": {},
     "output_type": "execute_result"
    },
    {
     "data": {
      "image/png": "[encoded data removed]",
      "text/plain": [
       "<Figure size 432x288 with 1 Axes>"
      ]
     },
     "metadata": {
      "needs_background": "light"
     },
     "output_type": "display_data"
    }
   ],
   "source": [
    "total_naissances.plot(title=\"total naissances par genre et par an *\")\n"
   ]
  },
  {
   "cell_type": "code",
   "execution_count": 69,
   "metadata": {},
   "outputs": [
    {
     "data": {
      "text/html": [
       "<div>\n",
       "<style scoped>\n",
       "    .dataframe tbody tr th:only-of-type {\n",
       "        vertical-align: middle;\n",
       "    }\n",
       "\n",
       "    .dataframe tbody tr th {\n",
       "        vertical-align: top;\n",
       "    }\n",
       "\n",
       "    .dataframe thead th {\n",
       "        text-align: right;\n",
       "    }\n",
       "</style>\n",
       "<table border=\"1\" class=\"dataframe\">\n",
       "  <thead>\n",
       "    <tr style=\"text-align: right;\">\n",
       "      <th></th>\n",
       "      <th>player_name</th>\n",
       "      <th>team_abbreviation</th>\n",
       "      <th>age</th>\n",
       "      <th>player_height</th>\n",
       "      <th>player_weight</th>\n",
       "      <th>college</th>\n",
       "      <th>country</th>\n",
       "      <th>draft_year</th>\n",
       "      <th>draft_round</th>\n",
       "      <th>draft_number</th>\n",
       "      <th>...</th>\n",
       "      <th>pts</th>\n",
       "      <th>reb</th>\n",
       "      <th>ast</th>\n",
       "      <th>net_rating</th>\n",
       "      <th>oreb_pct</th>\n",
       "      <th>dreb_pct</th>\n",
       "      <th>usg_pct</th>\n",
       "      <th>ts_pct</th>\n",
       "      <th>ast_pct</th>\n",
       "      <th>season</th>\n",
       "    </tr>\n",
       "  </thead>\n",
       "  <tbody>\n",
       "    <tr>\n",
       "      <th>0</th>\n",
       "      <td>Zylan Cheatham</td>\n",
       "      <td>NOP</td>\n",
       "      <td>24.0</td>\n",
       "      <td>195.58</td>\n",
       "      <td>99.790240</td>\n",
       "      <td>None</td>\n",
       "      <td>USA</td>\n",
       "      <td>Undrafted</td>\n",
       "      <td>Undrafted</td>\n",
       "      <td>Undrafted</td>\n",
       "      <td>...</td>\n",
       "      <td>1.3</td>\n",
       "      <td>2.0</td>\n",
       "      <td>0.7</td>\n",
       "      <td>-43.9</td>\n",
       "      <td>0.031</td>\n",
       "      <td>0.152</td>\n",
       "      <td>0.114</td>\n",
       "      <td>0.400</td>\n",
       "      <td>0.133</td>\n",
       "      <td>2019-20</td>\n",
       "    </tr>\n",
       "    <tr>\n",
       "      <th>1</th>\n",
       "      <td>Zion Williamson</td>\n",
       "      <td>NOP</td>\n",
       "      <td>19.0</td>\n",
       "      <td>198.12</td>\n",
       "      <td>128.820128</td>\n",
       "      <td>Duke</td>\n",
       "      <td>USA</td>\n",
       "      <td>2019</td>\n",
       "      <td>1</td>\n",
       "      <td>1</td>\n",
       "      <td>...</td>\n",
       "      <td>23.6</td>\n",
       "      <td>6.8</td>\n",
       "      <td>2.2</td>\n",
       "      <td>9.6</td>\n",
       "      <td>0.096</td>\n",
       "      <td>0.113</td>\n",
       "      <td>0.285</td>\n",
       "      <td>0.623</td>\n",
       "      <td>0.116</td>\n",
       "      <td>2019-20</td>\n",
       "    </tr>\n",
       "    <tr>\n",
       "      <th>2</th>\n",
       "      <td>Zhaire Smith</td>\n",
       "      <td>PHI</td>\n",
       "      <td>20.0</td>\n",
       "      <td>190.50</td>\n",
       "      <td>92.986360</td>\n",
       "      <td>Texas Tech</td>\n",
       "      <td>USA</td>\n",
       "      <td>2018</td>\n",
       "      <td>1</td>\n",
       "      <td>16</td>\n",
       "      <td>...</td>\n",
       "      <td>1.1</td>\n",
       "      <td>0.3</td>\n",
       "      <td>0.3</td>\n",
       "      <td>-12.3</td>\n",
       "      <td>0.000</td>\n",
       "      <td>0.080</td>\n",
       "      <td>0.165</td>\n",
       "      <td>0.313</td>\n",
       "      <td>0.083</td>\n",
       "      <td>2019-20</td>\n",
       "    </tr>\n",
       "    <tr>\n",
       "      <th>3</th>\n",
       "      <td>Zach Norvell Jr.</td>\n",
       "      <td>GSW</td>\n",
       "      <td>22.0</td>\n",
       "      <td>195.58</td>\n",
       "      <td>92.986360</td>\n",
       "      <td>None</td>\n",
       "      <td>USA</td>\n",
       "      <td>Undrafted</td>\n",
       "      <td>Undrafted</td>\n",
       "      <td>Undrafted</td>\n",
       "      <td>...</td>\n",
       "      <td>2.0</td>\n",
       "      <td>1.2</td>\n",
       "      <td>0.6</td>\n",
       "      <td>-32.3</td>\n",
       "      <td>0.000</td>\n",
       "      <td>0.207</td>\n",
       "      <td>0.147</td>\n",
       "      <td>0.402</td>\n",
       "      <td>0.091</td>\n",
       "      <td>2019-20</td>\n",
       "    </tr>\n",
       "    <tr>\n",
       "      <th>4</th>\n",
       "      <td>Zach LaVine</td>\n",
       "      <td>CHI</td>\n",
       "      <td>24.0</td>\n",
       "      <td>198.12</td>\n",
       "      <td>90.718400</td>\n",
       "      <td>UCLA</td>\n",
       "      <td>USA</td>\n",
       "      <td>2014</td>\n",
       "      <td>1</td>\n",
       "      <td>13</td>\n",
       "      <td>...</td>\n",
       "      <td>25.5</td>\n",
       "      <td>4.8</td>\n",
       "      <td>4.2</td>\n",
       "      <td>-4.4</td>\n",
       "      <td>0.019</td>\n",
       "      <td>0.125</td>\n",
       "      <td>0.312</td>\n",
       "      <td>0.568</td>\n",
       "      <td>0.218</td>\n",
       "      <td>2019-20</td>\n",
       "    </tr>\n",
       "  </tbody>\n",
       "</table>\n",
       "<p>5 rows × 21 columns</p>\n",
       "</div>"
      ],
      "text/plain": [
       "        player_name team_abbreviation   age  player_height  player_weight  \\\n",
       "0    Zylan Cheatham               NOP  24.0         195.58      99.790240   \n",
       "1   Zion Williamson               NOP  19.0         198.12     128.820128   \n",
       "2      Zhaire Smith               PHI  20.0         190.50      92.986360   \n",
       "3  Zach Norvell Jr.               GSW  22.0         195.58      92.986360   \n",
       "4       Zach LaVine               CHI  24.0         198.12      90.718400   \n",
       "\n",
       "      college country draft_year draft_round draft_number  ...   pts  reb  \\\n",
       "0        None     USA  Undrafted   Undrafted    Undrafted  ...   1.3  2.0   \n",
       "1        Duke     USA       2019           1            1  ...  23.6  6.8   \n",
       "2  Texas Tech     USA       2018           1           16  ...   1.1  0.3   \n",
       "3        None     USA  Undrafted   Undrafted    Undrafted  ...   2.0  1.2   \n",
       "4        UCLA     USA       2014           1           13  ...  25.5  4.8   \n",
       "\n",
       "   ast  net_rating  oreb_pct  dreb_pct  usg_pct  ts_pct  ast_pct   season  \n",
       "0  0.7       -43.9     0.031     0.152    0.114   0.400    0.133  2019-20  \n",
       "1  2.2         9.6     0.096     0.113    0.285   0.623    0.116  2019-20  \n",
       "2  0.3       -12.3     0.000     0.080    0.165   0.313    0.083  2019-20  \n",
       "3  0.6       -32.3     0.000     0.207    0.147   0.402    0.091  2019-20  \n",
       "4  4.2        -4.4     0.019     0.125    0.312   0.568    0.218  2019-20  \n",
       "\n",
       "[5 rows x 21 columns]"
      ]
     },
     "execution_count": 69,
     "metadata": {},
     "output_type": "execute_result"
    }
   ],
   "source": [
    "Table_NBA=pd.read_csv(\"C:/Users/erwan/Documents/Cours/all_seasons.csv\",delimiter=';',encoding='utf-8')\n",
    "\n",
    "Table_NBA.head()"
   ]
  }
 ],
 "metadata": {
  "kernelspec": {
   "display_name": "Python 3",
   "language": "python",
   "name": "python3"
  },
  "language_info": {
   "codemirror_mode": {
    "name": "ipython",
    "version": 3
   },
   "file_extension": ".py",
   "mimetype": "text/x-python",
   "name": "python",
   "nbconvert_exporter": "python",
   "pygments_lexer": "ipython3",
   "version": "3.8.3"
  }
 },
 "nbformat": 4,
 "nbformat_minor": 4
}
